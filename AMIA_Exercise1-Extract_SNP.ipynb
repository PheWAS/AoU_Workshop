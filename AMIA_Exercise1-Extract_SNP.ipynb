{
 "cells": [
  {
   "cell_type": "markdown",
   "metadata": {},
   "source": [
    "# Extract a SNP\n",
    "\n",
    "This notebook will extract a single variant from the \"ACAF\" dataset. Information about this dataset can be found here: https://support.researchallofus.org/hc/en-us/articles/14929793660948\n",
    "We can run this with a very small cluster. The default Hail \"genomic analysis\" cluster works great!"
   ]
  },
  {
   "cell_type": "code",
   "execution_count": null,
   "metadata": {},
   "outputs": [],
   "source": [
    "import pandas\n",
    "import os\n",
    "bucket = os.environ['WORKSPACE_BUCKET']\n",
    "bucket"
   ]
  },
  {
   "cell_type": "markdown",
   "metadata": {},
   "source": [
    "## Start Hail\n",
    "\n",
    "This initializes our Hail backend in the spark cluster."
   ]
  },
  {
   "cell_type": "code",
   "execution_count": null,
   "metadata": {},
   "outputs": [],
   "source": [
    "# Initialize Hail\n",
    "import hail as hl\n",
    "\n",
    "hl.init(default_reference='GRCh38', app_name=f'snp-extract')"
   ]
  },
  {
   "cell_type": "code",
   "execution_count": null,
   "metadata": {},
   "outputs": [],
   "source": [
    "#Get the full matrix table\n",
    "ds_full = hl.read_matrix_table(f'{os.environ[\"WGS_ACAF_THRESHOLD_SPLIT_HAIL_PATH\"]}')"
   ]
  },
  {
   "cell_type": "markdown",
   "metadata": {},
   "source": [
    "## Filter to our variant\n",
    "\n",
    "We use the filter_intervals() function here as it leverages the index so that the entire genome does not need to be read/processed. You can find more information about this variant in AoU data here: https://databrowser.researchallofus.org/variants/rs8050136"
   ]
  },
  {
   "cell_type": "code",
   "execution_count": null,
   "metadata": {},
   "outputs": [],
   "source": [
    "ds_filtered = hl.filter_intervals(ds_full, [hl.parse_locus_interval(\"chr16:53782363-53782364\")])"
   ]
  },
  {
   "cell_type": "markdown",
   "metadata": {},
   "source": [
    "### Check our work\n",
    "\n",
    "This should return a single variant of interest for all samples.\n",
    "Note that Hail is \"lazy\"- the above filter statement didn't actually execute the filtering step. It won't happen until we ask for something, like a count, that requires the filtering to be completed."
   ]
  },
  {
   "cell_type": "code",
   "execution_count": null,
   "metadata": {},
   "outputs": [],
   "source": [
    "print('Samples: %d  Variants: %d' % (ds_filtered.count_cols(), ds_filtered.count_rows()))"
   ]
  },
  {
   "cell_type": "markdown",
   "metadata": {},
   "source": [
    "We can also get information about the variant that was stored in the Hail MT."
   ]
  },
  {
   "cell_type": "code",
   "execution_count": null,
   "metadata": {},
   "outputs": [],
   "source": [
    "ds_filtered.rows().collect()"
   ]
  },
  {
   "cell_type": "markdown",
   "metadata": {},
   "source": [
    "## Save the variant\n",
    "\n",
    "We are going to export this as a plink binary file to our bucket."
   ]
  },
  {
   "cell_type": "code",
   "execution_count": null,
   "metadata": {},
   "outputs": [],
   "source": [
    "hl.export_plink(ds_filtered, f'{bucket}/fto_filtered',ind_id=ds_filtered.s, fam_id=\"0\")"
   ]
  }
 ],
 "metadata": {
  "kernelspec": {
   "display_name": "Python 3",
   "language": "python",
   "name": "python3"
  },
  "language_info": {
   "codemirror_mode": {
    "name": "ipython",
    "version": 3
   },
   "file_extension": ".py",
   "mimetype": "text/x-python",
   "name": "python",
   "nbconvert_exporter": "python",
   "pygments_lexer": "ipython3",
   "version": "3.7.12"
  },
  "toc": {
   "base_numbering": 1,
   "nav_menu": {},
   "number_sections": true,
   "sideBar": true,
   "skip_h1_title": false,
   "title_cell": "Table of Contents",
   "title_sidebar": "Contents",
   "toc_cell": false,
   "toc_position": {},
   "toc_section_display": true,
   "toc_window_display": false
  }
 },
 "nbformat": 4,
 "nbformat_minor": 2
}
